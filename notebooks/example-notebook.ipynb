{
 "cells": [
  {
   "cell_type": "code",
   "execution_count": null,
   "metadata": {},
   "outputs": [],
   "source": [
    "addpath('../src')"
   ]
  },
  {
   "cell_type": "code",
   "execution_count": null,
   "metadata": {},
   "outputs": [],
   "source": [
    "pkg load statistics\n",
    "warning('off','Octave:nearly-singular-matrix')\n",
    "warning('off','Octave:singular-matrix')\n",
    "version\n"
   ]
  },
  {
   "cell_type": "code",
   "execution_count": null,
   "metadata": {},
   "outputs": [],
   "source": [
    "train = load('../data/train_tae.0');\n",
    "test = load('../data/test_tae.0');\n",
    "\n",
    "iristrain.patterns = center(train(:,1:end-1));\n",
    "iristrain.targets = train(:,end);\n",
    "iristest.patterns = center(test(:,1:end-1));\n",
    "iristest.targets = test(:,end);\n",
    "\n"
   ]
  },
  {
   "cell_type": "code",
   "execution_count": null,
   "metadata": {},
   "outputs": [],
   "source": [
    "classifier = POM();\n",
    "results = classifier.runAlgorithm(iristrain, iristest);\n",
    "\n",
    "trainCM = confusionmat(results.predictedTrain,iristrain.targets);\n",
    "testCM = confusionmat(results.predictedTest,iristest.targets);\n"
   ]
  },
  {
   "cell_type": "code",
   "execution_count": null,
   "metadata": {},
   "outputs": [],
   "source": [
    "accRef = 0.95;\n",
    "testacc = sum(diag(testCM ))/sum(testCM(:));\n",
    "if ( abs(accRef - testacc) < 0.1 )\n",
    "  printf('\\nTest OK\\n')\n",
    "else\n",
    "  printf('Test failed')\n",
    "  exit(1)\n",
    "end\n",
    "disp('End')"
   ]
  },
  {
   "cell_type": "code",
   "execution_count": null,
   "metadata": {},
   "outputs": [],
   "source": [
    "lasterr()"
   ]
  }
 ],
 "metadata": {
  "kernelspec": {
   "display_name": "Octave",
   "language": "octave",
   "name": "octave"
  },
  "language_info": {
   "file_extension": ".m",
   "help_links": [
    {
     "text": "GNU Octave",
     "url": "https://www.gnu.org/software/octave/support.html"
    },
    {
     "text": "Octave Kernel",
     "url": "https://github.com/Calysto/octave_kernel"
    },
    {
     "text": "MetaKernel Magics",
     "url": "https://github.com/calysto/metakernel/blob/master/metakernel/magics/README.md"
    }
   ],
   "mimetype": "text/x-octave",
   "name": "octave",
   "version": "4.4.1"
  }
 },
 "nbformat": 4,
 "nbformat_minor": 2
}
